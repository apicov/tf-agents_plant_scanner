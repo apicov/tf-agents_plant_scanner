{
 "cells": [
  {
   "cell_type": "code",
   "execution_count": 1,
   "id": "comic-array",
   "metadata": {},
   "outputs": [
    {
     "name": "stdout",
     "output_type": "stream",
     "text": [
      "pygame 2.0.1 (SDL 2.0.14, Python 3.8.8)\n",
      "Hello from the pygame community. https://www.pygame.org/contribute.html\n"
     ]
    }
   ],
   "source": [
    "import pygame\n",
    "from pygame.locals import *\n",
    "from pygame import gfxdraw\n",
    "import sys\n",
    "import numpy as np\n",
    "import copy\n",
    "\n",
    "import tensorflow as tf\n",
    "\n",
    "import tf_agents\n",
    "from tf_agents.environments import py_environment, parallel_py_environment, batched_py_environment\n",
    "from tf_agents.environments import tf_environment\n",
    "from tf_agents.environments import tf_py_environment\n",
    "from tf_agents.environments import utils\n",
    "from tf_agents.specs import array_spec\n",
    "from tf_agents.environments import wrappers\n",
    "from tf_agents.environments import suite_gym\n",
    "from tf_agents.trajectories import time_step as ts\n",
    "from tf_agents.networks.q_network import QNetwork\n",
    "from tf_agents.agents.dqn.dqn_agent import DqnAgent\n",
    "from tf_agents.replay_buffers import tf_uniform_replay_buffer\n",
    "from tf_agents.metrics import tf_metrics\n",
    "from tf_agents.drivers.dynamic_step_driver import DynamicStepDriver\n",
    "from tf_agents.policies.random_tf_policy import RandomTFPolicy\n",
    "from tf_agents.utils.common import function, element_wise_squared_loss\n",
    "from tf_agents.eval.metric_utils import log_metrics\n",
    "from tf_agents.policies import policy_saver\n",
    "\n",
    "from scan_gym import envs"
   ]
  },
  {
   "cell_type": "code",
   "execution_count": 2,
   "id": "unlimited-process",
   "metadata": {},
   "outputs": [],
   "source": [
    "BROWN = (139,69,19)\n",
    "BLACK = (0,0,0)\n",
    "RED = (255,0,0)\n",
    "GREEN = (0,255,0)\n",
    "\n",
    "def get_circle_points(center,radius,npoints):\n",
    "    angleStep = (2*np.pi)/npoints\n",
    "    angles = np.arange(0,2*np.pi,angleStep)\n",
    "    \n",
    "    points = []\n",
    "    #get points\n",
    "    for i in angles:\n",
    "        point = np.array([int(radius*np.cos(i)),int(radius*np.sin(i))])\n",
    "        #translate point according to circle center\n",
    "        point += center\n",
    "        points.append(point)    \n",
    "    return points\n",
    "\n",
    "\n",
    "def convert_images(images):\n",
    "    imgs=[]\n",
    "    for i in images:\n",
    "        mode = i.mode\n",
    "        size = i.size\n",
    "        data = i.tobytes()\n",
    "        py_image = pygame.image.fromstring(data, size, mode)\n",
    "        py_image = pygame.transform.scale(py_image, (640, 358))\n",
    "        #img = pygame.transform.flip(img, False, True)\n",
    "        imgs.append(py_image)\n",
    "    return imgs\n",
    "\n",
    "\n",
    "class policySim():\n",
    "    def __init__(self,imgs):\n",
    "        self.imgs = imgs\n",
    "        pygame.display.set_caption('cnc simulator')\n",
    "        size = 1024\n",
    "        self.width = size\n",
    "        self.height = size\n",
    "        self.background = pygame.Surface((self.width,self.height))\n",
    "        self.background.fill(BROWN)\n",
    "        self.npoints = 720\n",
    "        self.radius = int((size*.9)/2.0)\n",
    "        self.cam_pos = get_circle_points((int(self.width/2),int(self.height/2)),self.radius,self.npoints)\n",
    "        pygame.draw.circle(self.background, BLACK ,(int(self.width/2),int(self.height/2)), self.radius,4)\n",
    "\n",
    "        self.screen = pygame.display.set_mode((self.width, self.height))\n",
    "        self.screen.blit(self.background, (0, 0))\n",
    "        pygame.display.update()\n",
    "\n",
    "    def reset(self):\n",
    "        self.background = pygame.Surface((self.width,self.height))\n",
    "        self.background.fill(BROWN)\n",
    "        pygame.draw.circle(self.background, BLACK ,(int(self.width/2),int(self.height/2)), self.radius,4)\n",
    "        self.screen.blit(self.background, (0, 0))\n",
    "        pygame.display.update()\n",
    "\n",
    "    def move(self,position):\n",
    "        self.screen.blit(self.background, (0, 0))\n",
    "        self.screen.blit(self.imgs[position], (192, 323))\n",
    "        pygame.draw.circle(self.screen, RED , self.cam_pos[position], 15)\n",
    "        pygame.display.update()\n",
    "\n",
    "    def save(self,position):\n",
    "        #gfxdraw.pixel(self.background, self.cam_pos[position][0], self.cam_pos[position][1], GREEN)\n",
    "        pygame.draw.circle(self.background, GREEN , self.cam_pos[position], 1)\n",
    "        pygame.draw.circle(self.screen, GREEN , self.cam_pos[position], 15)\n",
    "        pygame.display.update()\n"
   ]
  },
  {
   "cell_type": "code",
   "execution_count": 3,
   "id": "fantastic-riverside",
   "metadata": {},
   "outputs": [],
   "source": [
    "policy_dir = '/home/pico/uni/romi/rl_sony/tf-agents_plant_scanner/multienv_policy_100000'  #os.path.join(current_path, 'policy')\n",
    "policy = tf.compat.v2.saved_model.load(policy_dir)"
   ]
  },
  {
   "cell_type": "code",
   "execution_count": 4,
   "id": "digital-penalty",
   "metadata": {},
   "outputs": [
    {
     "name": "stderr",
     "output_type": "stream",
     "text": [
      "/home/pico/.local/lib/python3.8/site-packages/gym/logger.py:30: UserWarning: \u001b[33mWARN: Box bound precision lowered by casting to float32\u001b[0m\n",
      "  warnings.warn(colorize('%s: %s'%('WARN', msg % args), 'yellow'))\n"
     ]
    }
   ],
   "source": [
    "dp = '/home/pico/uni/romi/rl_sony/arabidopsis_image_sets/000'\n",
    "env = suite_gym.load('ScannerEnv-v1',gym_kwargs={'dataset_path':dp})\n",
    "test_env = tf_py_environment.TFPyEnvironment( env )"
   ]
  },
  {
   "cell_type": "code",
   "execution_count": 5,
   "id": "numerical-replication",
   "metadata": {},
   "outputs": [],
   "source": [
    "pygame.init()\n",
    "imgs=convert_images(env.rwd_images)\n",
    "sim = policySim(imgs)\n",
    "delay = 50"
   ]
  },
  {
   "cell_type": "code",
   "execution_count": 6,
   "id": "following-integer",
   "metadata": {},
   "outputs": [
    {
     "ename": "NotFoundError",
     "evalue": " No algorithm worked!\n\t [[{{node StatefulPartitionedCall/QNetwork/EncodingNetwork/model/conv2d/Relu}}]] [Op:__inference_restored_function_body_1186]\n\nFunction call stack:\nrestored_function_body\n",
     "output_type": "error",
     "traceback": [
      "\u001b[0;31m---------------------------------------------------------------------------\u001b[0m",
      "\u001b[0;31mNotFoundError\u001b[0m                             Traceback (most recent call last)",
      "\u001b[0;32m<ipython-input-6-4b7da67900d4>\u001b[0m in \u001b[0;36m<module>\u001b[0;34m\u001b[0m\n\u001b[1;32m      9\u001b[0m     \u001b[0;31m#obs.append(state.observation[0].numpy())\u001b[0m\u001b[0;34m\u001b[0m\u001b[0;34m\u001b[0m\u001b[0;34m\u001b[0m\u001b[0m\n\u001b[1;32m     10\u001b[0m     \u001b[0mcont\u001b[0m \u001b[0;34m+=\u001b[0m\u001b[0;36m1\u001b[0m\u001b[0;34m\u001b[0m\u001b[0;34m\u001b[0m\u001b[0m\n\u001b[0;32m---> 11\u001b[0;31m     \u001b[0maction_step\u001b[0m \u001b[0;34m=\u001b[0m \u001b[0mpolicy\u001b[0m\u001b[0;34m.\u001b[0m\u001b[0maction\u001b[0m\u001b[0;34m(\u001b[0m\u001b[0mstate\u001b[0m\u001b[0;34m)\u001b[0m\u001b[0;31m#agent.policy.action(state)\u001b[0m\u001b[0;34m\u001b[0m\u001b[0;34m\u001b[0m\u001b[0m\n\u001b[0m\u001b[1;32m     12\u001b[0m     \u001b[0mnext_state\u001b[0m \u001b[0;34m=\u001b[0m \u001b[0mtest_env\u001b[0m\u001b[0;34m.\u001b[0m\u001b[0mstep\u001b[0m\u001b[0;34m(\u001b[0m\u001b[0maction_step\u001b[0m\u001b[0;34m.\u001b[0m\u001b[0maction\u001b[0m\u001b[0;34m)\u001b[0m\u001b[0;34m\u001b[0m\u001b[0;34m\u001b[0m\u001b[0m\n\u001b[1;32m     13\u001b[0m \u001b[0;34m\u001b[0m\u001b[0m\n",
      "\u001b[0;32m~/anaconda3/envs/rl/lib/python3.8/site-packages/tensorflow/python/eager/def_function.py\u001b[0m in \u001b[0;36m__call__\u001b[0;34m(self, *args, **kwds)\u001b[0m\n\u001b[1;32m    826\u001b[0m     \u001b[0mtracing_count\u001b[0m \u001b[0;34m=\u001b[0m \u001b[0mself\u001b[0m\u001b[0;34m.\u001b[0m\u001b[0mexperimental_get_tracing_count\u001b[0m\u001b[0;34m(\u001b[0m\u001b[0;34m)\u001b[0m\u001b[0;34m\u001b[0m\u001b[0;34m\u001b[0m\u001b[0m\n\u001b[1;32m    827\u001b[0m     \u001b[0;32mwith\u001b[0m \u001b[0mtrace\u001b[0m\u001b[0;34m.\u001b[0m\u001b[0mTrace\u001b[0m\u001b[0;34m(\u001b[0m\u001b[0mself\u001b[0m\u001b[0;34m.\u001b[0m\u001b[0m_name\u001b[0m\u001b[0;34m)\u001b[0m \u001b[0;32mas\u001b[0m \u001b[0mtm\u001b[0m\u001b[0;34m:\u001b[0m\u001b[0;34m\u001b[0m\u001b[0;34m\u001b[0m\u001b[0m\n\u001b[0;32m--> 828\u001b[0;31m       \u001b[0mresult\u001b[0m \u001b[0;34m=\u001b[0m \u001b[0mself\u001b[0m\u001b[0;34m.\u001b[0m\u001b[0m_call\u001b[0m\u001b[0;34m(\u001b[0m\u001b[0;34m*\u001b[0m\u001b[0margs\u001b[0m\u001b[0;34m,\u001b[0m \u001b[0;34m**\u001b[0m\u001b[0mkwds\u001b[0m\u001b[0;34m)\u001b[0m\u001b[0;34m\u001b[0m\u001b[0;34m\u001b[0m\u001b[0m\n\u001b[0m\u001b[1;32m    829\u001b[0m       \u001b[0mcompiler\u001b[0m \u001b[0;34m=\u001b[0m \u001b[0;34m\"xla\"\u001b[0m \u001b[0;32mif\u001b[0m \u001b[0mself\u001b[0m\u001b[0;34m.\u001b[0m\u001b[0m_experimental_compile\u001b[0m \u001b[0;32melse\u001b[0m \u001b[0;34m\"nonXla\"\u001b[0m\u001b[0;34m\u001b[0m\u001b[0;34m\u001b[0m\u001b[0m\n\u001b[1;32m    830\u001b[0m       \u001b[0mnew_tracing_count\u001b[0m \u001b[0;34m=\u001b[0m \u001b[0mself\u001b[0m\u001b[0;34m.\u001b[0m\u001b[0mexperimental_get_tracing_count\u001b[0m\u001b[0;34m(\u001b[0m\u001b[0;34m)\u001b[0m\u001b[0;34m\u001b[0m\u001b[0;34m\u001b[0m\u001b[0m\n",
      "\u001b[0;32m~/anaconda3/envs/rl/lib/python3.8/site-packages/tensorflow/python/eager/def_function.py\u001b[0m in \u001b[0;36m_call\u001b[0;34m(self, *args, **kwds)\u001b[0m\n\u001b[1;32m    892\u001b[0m               *args, **kwds)\n\u001b[1;32m    893\u001b[0m       \u001b[0;31m# If we did not create any variables the trace we have is good enough.\u001b[0m\u001b[0;34m\u001b[0m\u001b[0;34m\u001b[0m\u001b[0;34m\u001b[0m\u001b[0m\n\u001b[0;32m--> 894\u001b[0;31m       return self._concrete_stateful_fn._call_flat(\n\u001b[0m\u001b[1;32m    895\u001b[0m           filtered_flat_args, self._concrete_stateful_fn.captured_inputs)  # pylint: disable=protected-access\n\u001b[1;32m    896\u001b[0m \u001b[0;34m\u001b[0m\u001b[0m\n",
      "\u001b[0;32m~/anaconda3/envs/rl/lib/python3.8/site-packages/tensorflow/python/eager/function.py\u001b[0m in \u001b[0;36m_call_flat\u001b[0;34m(self, args, captured_inputs, cancellation_manager)\u001b[0m\n\u001b[1;32m   1916\u001b[0m         and executing_eagerly):\n\u001b[1;32m   1917\u001b[0m       \u001b[0;31m# No tape is watching; skip to running the function.\u001b[0m\u001b[0;34m\u001b[0m\u001b[0;34m\u001b[0m\u001b[0;34m\u001b[0m\u001b[0m\n\u001b[0;32m-> 1918\u001b[0;31m       return self._build_call_outputs(self._inference_function.call(\n\u001b[0m\u001b[1;32m   1919\u001b[0m           ctx, args, cancellation_manager=cancellation_manager))\n\u001b[1;32m   1920\u001b[0m     forward_backward = self._select_forward_and_backward_functions(\n",
      "\u001b[0;32m~/anaconda3/envs/rl/lib/python3.8/site-packages/tensorflow/python/eager/function.py\u001b[0m in \u001b[0;36mcall\u001b[0;34m(self, ctx, args, cancellation_manager)\u001b[0m\n\u001b[1;32m    553\u001b[0m       \u001b[0;32mwith\u001b[0m \u001b[0m_InterpolateFunctionError\u001b[0m\u001b[0;34m(\u001b[0m\u001b[0mself\u001b[0m\u001b[0;34m)\u001b[0m\u001b[0;34m:\u001b[0m\u001b[0;34m\u001b[0m\u001b[0;34m\u001b[0m\u001b[0m\n\u001b[1;32m    554\u001b[0m         \u001b[0;32mif\u001b[0m \u001b[0mcancellation_manager\u001b[0m \u001b[0;32mis\u001b[0m \u001b[0;32mNone\u001b[0m\u001b[0;34m:\u001b[0m\u001b[0;34m\u001b[0m\u001b[0;34m\u001b[0m\u001b[0m\n\u001b[0;32m--> 555\u001b[0;31m           outputs = execute.execute(\n\u001b[0m\u001b[1;32m    556\u001b[0m               \u001b[0mstr\u001b[0m\u001b[0;34m(\u001b[0m\u001b[0mself\u001b[0m\u001b[0;34m.\u001b[0m\u001b[0msignature\u001b[0m\u001b[0;34m.\u001b[0m\u001b[0mname\u001b[0m\u001b[0;34m)\u001b[0m\u001b[0;34m,\u001b[0m\u001b[0;34m\u001b[0m\u001b[0;34m\u001b[0m\u001b[0m\n\u001b[1;32m    557\u001b[0m               \u001b[0mnum_outputs\u001b[0m\u001b[0;34m=\u001b[0m\u001b[0mself\u001b[0m\u001b[0;34m.\u001b[0m\u001b[0m_num_outputs\u001b[0m\u001b[0;34m,\u001b[0m\u001b[0;34m\u001b[0m\u001b[0;34m\u001b[0m\u001b[0m\n",
      "\u001b[0;32m~/anaconda3/envs/rl/lib/python3.8/site-packages/tensorflow/python/eager/execute.py\u001b[0m in \u001b[0;36mquick_execute\u001b[0;34m(op_name, num_outputs, inputs, attrs, ctx, name)\u001b[0m\n\u001b[1;32m     57\u001b[0m   \u001b[0;32mtry\u001b[0m\u001b[0;34m:\u001b[0m\u001b[0;34m\u001b[0m\u001b[0;34m\u001b[0m\u001b[0m\n\u001b[1;32m     58\u001b[0m     \u001b[0mctx\u001b[0m\u001b[0;34m.\u001b[0m\u001b[0mensure_initialized\u001b[0m\u001b[0;34m(\u001b[0m\u001b[0;34m)\u001b[0m\u001b[0;34m\u001b[0m\u001b[0;34m\u001b[0m\u001b[0m\n\u001b[0;32m---> 59\u001b[0;31m     tensors = pywrap_tfe.TFE_Py_Execute(ctx._handle, device_name, op_name,\n\u001b[0m\u001b[1;32m     60\u001b[0m                                         inputs, attrs, num_outputs)\n\u001b[1;32m     61\u001b[0m   \u001b[0;32mexcept\u001b[0m \u001b[0mcore\u001b[0m\u001b[0;34m.\u001b[0m\u001b[0m_NotOkStatusException\u001b[0m \u001b[0;32mas\u001b[0m \u001b[0me\u001b[0m\u001b[0;34m:\u001b[0m\u001b[0;34m\u001b[0m\u001b[0;34m\u001b[0m\u001b[0m\n",
      "\u001b[0;31mNotFoundError\u001b[0m:  No algorithm worked!\n\t [[{{node StatefulPartitionedCall/QNetwork/EncodingNetwork/model/conv2d/Relu}}]] [Op:__inference_restored_function_body_1186]\n\nFunction call stack:\nrestored_function_body\n"
     ]
    }
   ],
   "source": [
    "state = test_env.reset()\n",
    "#print(state.observation[0].numpy())\n",
    "last_position = env.current_position\n",
    "cont = 0\n",
    "time_steps = 3000\n",
    "#obs = deque(maxlen=time_steps)\n",
    "\n",
    "for i in range(time_steps):\n",
    "    #obs.append(state.observation[0].numpy())\n",
    "    cont +=1\n",
    "    action_step = policy.action(state)#agent.policy.action(state)\n",
    "    next_state = test_env.step(action_step.action)\n",
    "    \n",
    "    sim.move(env.current_position)\n",
    "    action = env.action2move(action_step.action.numpy(),state.observation[1].numpy()[0][-1])\n",
    "    if action == 88888:\n",
    "        sim.save(env.current_position)\n",
    "    pygame.time.delay(delay)\n",
    "\n",
    "    print(cont,':',last_position,state.observation[1].numpy(),action ) #,state.step_type.numpy()  )#,env.action2move(action_step.action,state.observation[0][-1].numpy()))#action,dir\n",
    "    state = copy.deepcopy(next_state)\n",
    "    last_position = env.current_position\n",
    "    if state.is_last():\n",
    "        print('salio',cont)\n",
    "        break\n",
    "        \n",
    "print(env.kept_images)\n",
    "print(sorted(env.kept_images))\n",
    "print(env.total_reward)\n",
    "print(len(env.kept_images))\n",
    "print(env.total_moves)"
   ]
  },
  {
   "cell_type": "code",
   "execution_count": null,
   "id": "satellite-chapter",
   "metadata": {},
   "outputs": [],
   "source": [
    "env.chamfer_from_collected()"
   ]
  },
  {
   "cell_type": "code",
   "execution_count": null,
   "id": "uniform-gospel",
   "metadata": {},
   "outputs": [],
   "source": []
  }
 ],
 "metadata": {
  "kernelspec": {
   "display_name": "rl",
   "language": "python",
   "name": "rl"
  },
  "language_info": {
   "codemirror_mode": {
    "name": "ipython",
    "version": 3
   },
   "file_extension": ".py",
   "mimetype": "text/x-python",
   "name": "python",
   "nbconvert_exporter": "python",
   "pygments_lexer": "ipython3",
   "version": "3.8.8"
  }
 },
 "nbformat": 4,
 "nbformat_minor": 5
}
