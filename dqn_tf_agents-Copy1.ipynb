{
 "cells": [
  {
   "cell_type": "code",
   "execution_count": 1,
   "metadata": {},
   "outputs": [
    {
     "name": "stdout",
     "output_type": "stream",
     "text": [
      "GPUs:  1\n"
     ]
    }
   ],
   "source": [
    "%reload_ext tensorboard\n",
    "import numpy as np\n",
    "import json\n",
    "import tensorflow as tf\n",
    "import os\n",
    "\n",
    "import time\n",
    "%matplotlib inline\n",
    "import matplotlib\n",
    "import matplotlib.pyplot as plt\n",
    "import gym\n",
    "\n",
    "import tensorflow as tf\n",
    "\n",
    "gpus = tf.config.experimental.list_physical_devices('GPU')\n",
    "#tf.config.experimental.set_memory_growth(gpus[0], True)\n",
    "if gpus:\n",
    "  try:\n",
    "    tf.config.experimental.set_virtual_device_configuration(gpus[0], \n",
    "    [tf.config.experimental.VirtualDeviceConfiguration(memory_limit=9000)])\n",
    "  except RuntimeError as e:\n",
    "    print(e)\n",
    "    \n",
    "    \n",
    "print(\"GPUs: \", len(tf.config.experimental.list_physical_devices('GPU')))\n",
    "tf.config.experimental.list_logical_devices('GPU')\n",
    "\n",
    "import tf_agents\n",
    "from tf_agents.environments import py_environment, parallel_py_environment, batched_py_environment\n",
    "from tf_agents.environments import tf_environment\n",
    "from tf_agents.environments import tf_py_environment\n",
    "from tf_agents.environments import utils\n",
    "from tf_agents.specs import array_spec\n",
    "from tf_agents.environments import wrappers\n",
    "from tf_agents.environments import suite_gym\n",
    "from tf_agents.trajectories import time_step as ts\n",
    "from tf_agents.networks.q_network import QNetwork\n",
    "from tf_agents.agents.dqn.dqn_agent import DqnAgent\n",
    "from tf_agents.replay_buffers import tf_uniform_replay_buffer\n",
    "from tf_agents.metrics import tf_metrics\n",
    "from tf_agents.drivers.dynamic_step_driver import DynamicStepDriver\n",
    "from tf_agents.policies.random_tf_policy import RandomTFPolicy\n",
    "from tf_agents.utils.common import function, element_wise_squared_loss\n",
    "from tf_agents.eval.metric_utils import log_metrics\n",
    "from tf_agents.policies import policy_saver\n",
    "import logging\n",
    "\n",
    "import tensorflow.keras as keras\n",
    "\n",
    "tf.compat.v1.enable_v2_behavior()\n",
    "import time\n",
    "import json\n",
    "import datetime\n",
    "import copy\n",
    "\n",
    "#import imp\n",
    "from scan_gym import envs\n",
    "#imp.reload(envs)\n",
    "\n",
    "\n",
    "seed=42\n",
    "tf.random.set_seed(seed)\n",
    "np.random.seed(seed)"
   ]
  },
  {
   "cell_type": "code",
   "execution_count": 2,
   "metadata": {},
   "outputs": [],
   "source": [
    "current_path = os.getcwd()\n",
    "#sys.path.append(os.path.join(current_path, 'scan_gym/scan_gym/envs/ScannerEnv/') )\n",
    "#import scanner_env\n",
    "params_file = os.path.join(current_path, 'params.json') \n",
    "pm=json.load(open(params_file))"
   ]
  },
  {
   "cell_type": "code",
   "execution_count": 3,
   "metadata": {},
   "outputs": [
    {
     "name": "stderr",
     "output_type": "stream",
     "text": [
      "/home/pico/.local/lib/python3.8/site-packages/gym/logger.py:30: UserWarning: \u001b[33mWARN: Box bound precision lowered by casting to float32\u001b[0m\n",
      "  warnings.warn(colorize('%s: %s'%('WARN', msg % args), 'yellow'))\n"
     ]
    }
   ],
   "source": [
    "#env = gym.make('GatekeeperEnv-v0')\n",
    "#precomputed inliers ratios for all combinations of images\n",
    "'''envs_paths = [os.path.join(current_path, 'plants_dataset/scan_plant001/v01/inliers_ratios.npy'),\n",
    "                os.path.join(current_path, 'plants_dataset/scan_plant002/v01/inliers_ratios.npy'),\n",
    "                os.path.join(current_path, 'plants_dataset/scan_plant003/v01/inliers_ratios.npy'),\n",
    "                os.path.join(current_path, 'plants_dataset/scan_plant004/v01/inliers_ratios.npy'),\n",
    "                os.path.join(current_path, 'plants_dataset/scan_plant005/v01/inliers_ratios.npy'),\n",
    "                os.path.join(current_path, 'plants_dataset/scan_plant006/v01/inliers_ratios.npy'),\n",
    "                os.path.join(current_path, 'plants_dataset/scan_plant007/v01/inliers_ratios.npy'),\n",
    "             ]\n",
    "\n",
    "data_paths = [os.path.join(current_path, 'plants_image_dataset/scan_plant001/v01/gray_imgs_224/'),\n",
    "              os.path.join(current_path, 'plants_image_dataset/scan_plant002/v01/gray_imgs_224/'),\n",
    "              os.path.join(current_path, 'plants_image_dataset/scan_plant003/v01/gray_imgs_224/'),\n",
    "              os.path.join(current_path, 'plants_image_dataset/scan_plant004/v01/gray_imgs_224/'),\n",
    "              os.path.join(current_path, 'plants_image_dataset/scan_plant005/v01/gray_imgs_224/'),\n",
    "              os.path.join(current_path, 'plants_image_dataset/scan_plant006/v01/gray_imgs_224/'),\n",
    "              os.path.join(current_path, 'plants_image_dataset/scan_plant007/v01/gray_imgs_224/')\n",
    "            ]'''\n",
    "\n",
    "\n",
    "\n",
    "envs_paths = [os.path.join(current_path, 'plants_dataset/scan_plant001/v01/inliers_ratios.npy'),\n",
    "                os.path.join(current_path, 'plants_dataset/scan_plant002/v01/inliers_ratios.npy')\n",
    "             ]\n",
    "\n",
    "data_paths = [os.path.join(current_path, 'plants_image_dataset/scan_plant001/v01/gray_imgs_224/'),\n",
    "              os.path.join(current_path, 'plants_image_dataset/scan_plant002/v01/gray_imgs_224/')\n",
    "            ]\n",
    "\n",
    "\n",
    "\n",
    "\n",
    "#env = suite_gym.load('ScannerEnv-v0',gym_kwargs={'setpoint':0.03,\n",
    "#                                                 'inliers_ratios_file':os.path.join(current_path, 'plants_image_dataset/scan_plant001/v01/inliers_ratios.npy'),\n",
    "#                                                  'dataset_path':os.path.join(current_path, 'plants_image_dataset/scan_plant001/v01/gray_imgs/')})\n",
    "#tf_env = tf_py_environment.TFPyEnvironment(env)\n",
    "\n",
    "\n",
    "#tf_agents.system.multiprocessing.enable_interactive_mode()#parallel environment in notebooks\n",
    "#envs_callables = [lambda: suite_gym.load('ScannerEnv-v0',gym_kwargs={'setpoint':0.2,'inliers_ratios_file':x}) for x in envs_paths ]\n",
    "#tf_env = tf_py_environment.TFPyEnvironment( parallel_py_environment.ParallelPyEnvironment(envs_callables) )\n",
    "\n",
    "\n",
    "\n",
    "envs = [suite_gym.load('ScannerEnv-v0',gym_kwargs={'setpoint':0.03,\n",
    "        'inliers_ratios_file':il,'dataset_path':dp}) \n",
    "        for il,dp in zip(envs_paths,data_paths)]\n",
    "\n",
    "tf_env = tf_py_environment.TFPyEnvironment( batched_py_environment.BatchedPyEnvironment(envs,multithreading=True))#, isolation=True  )"
   ]
  },
  {
   "cell_type": "code",
   "execution_count": 4,
   "metadata": {},
   "outputs": [
    {
     "data": {
      "text/plain": [
       "(BoundedTensorSpec(shape=(224, 224, 2), dtype=tf.float32, name='observation/tuple_0', minimum=array(0., dtype=float32), maximum=array(255., dtype=float32)),\n",
       " BoundedTensorSpec(shape=(5,), dtype=tf.float32, name='observation/tuple_1', minimum=array([-200.,    0.,    0.,  -20.,    0.], dtype=float32), maximum=array([200.,   8.,  10.,  20.,   1.], dtype=float32)))"
      ]
     },
     "execution_count": 4,
     "metadata": {},
     "output_type": "execute_result"
    }
   ],
   "source": [
    "tf_env.observation_spec()"
   ]
  },
  {
   "cell_type": "code",
   "execution_count": 5,
   "metadata": {},
   "outputs": [],
   "source": [
    "def image_layers():\n",
    "    input_img = keras.layers.Input(shape=(224,224,2))\n",
    "    preprocessing = keras.layers.Lambda(lambda x: x / 255.)(input_img)\n",
    "    x = keras.layers.Conv2D(filters=32,\n",
    "                            kernel_size=8,\n",
    "                            padding=\"same\",\n",
    "                            strides=(4,4),\n",
    "                            activation='relu')(preprocessing)\n",
    "    x = keras.layers.Conv2D(filters=64,\n",
    "                            kernel_size=4,\n",
    "                            padding=\"same\",\n",
    "                            strides=(2,2),\n",
    "                            activation='relu')(x)\n",
    "    x = keras.layers.Conv2D(filters=64,\n",
    "                            kernel_size=3,\n",
    "                            padding=\"same\",\n",
    "                            strides=(1,1),\n",
    "                            activation='relu')(x)\n",
    "    x = keras.layers.Flatten()(x)\n",
    "    model = keras.models.Model(inputs=input_img,outputs=x)\n",
    "    return model\n",
    "    \n",
    "    \n",
    "    \n",
    "#scale range 0 to 1\n",
    "oldmin = tf_env.observation_spec()[0].minimum\n",
    "oldmax = tf_env.observation_spec()[0].maximum\n",
    "    \n",
    "def input_vect_layers():\n",
    "    input_ = keras.layers.Input(shape=(5,))\n",
    "    preprocessing = keras.layers.Lambda(lambda x: ((x-oldmin)*(1.- 0.)/(oldmax-oldmin)) + 0. )(input_)\n",
    "    #x = keras.layers.Dense(4)(preprocessing)\n",
    "    return keras.models.Model(inputs=input_,outputs=preprocessing)"
   ]
  },
  {
   "cell_type": "code",
   "execution_count": 6,
   "metadata": {},
   "outputs": [
    {
     "name": "stderr",
     "output_type": "stream",
     "text": [
      "WARNING:absl:Beware: Copying a layer that has already been built: 'model'.  This can lead to subtle bugs because the original layer's weights will not be used in the copy.\n",
      "WARNING:absl:Beware: Copying a layer that has already been built: 'model_1'.  This can lead to subtle bugs because the original layer's weights will not be used in the copy.\n"
     ]
    }
   ],
   "source": [
    "#network\n",
    "preprocessing_layers=(image_layers(),input_vect_layers())\n",
    "preprocessing_combiner = tf.keras.layers.Concatenate(axis=-1)\n",
    "fc_layer_params = (512,)#pm['model']['fc_layer_params']\n",
    "\n",
    "q_net = QNetwork(\n",
    "tf_env.observation_spec(),\n",
    "tf_env.action_spec(),\n",
    "preprocessing_layers=preprocessing_layers,\n",
    "preprocessing_combiner=preprocessing_combiner,\n",
    "fc_layer_params=fc_layer_params)"
   ]
  },
  {
   "cell_type": "code",
   "execution_count": 7,
   "metadata": {},
   "outputs": [
    {
     "name": "stderr",
     "output_type": "stream",
     "text": [
      "WARNING:absl:Beware: Copying a layer that has already been built: 'model'.  This can lead to subtle bugs because the original layer's weights will not be used in the copy.\n",
      "WARNING:absl:Beware: Copying a layer that has already been built: 'model_1'.  This can lead to subtle bugs because the original layer's weights will not be used in the copy.\n"
     ]
    }
   ],
   "source": [
    "#agent\n",
    "train_step = tf.Variable(0)\n",
    "#optimizer = keras.optimizers.RMSprop(lr=2.5e-4, rho=0.95, momentum=0.0,\n",
    "#            epsilon=0.00001, centered=True)\n",
    "'''lr_decay =  keras.optimizers.schedules.PolynomialDecay(\n",
    "            initial_learning_rate=0.005, # initial ε\n",
    "            decay_steps = pm['agent']['decay_steps'], \n",
    "            end_learning_rate=0.0005)\n",
    "optimizer = keras.optimizers.Adam(learning_rate=lambda: lr_decay(train_step))'''\n",
    "\n",
    "\n",
    "optimizer = keras.optimizers.Adam(learning_rate=pm['model']['learning_rate'])\n",
    "\n",
    "epsilon_fn = keras.optimizers.schedules.PolynomialDecay(\n",
    "            initial_learning_rate=1.0, # initial ε\n",
    "            decay_steps = pm['agent']['decay_steps'], \n",
    "            end_learning_rate=0.01) # final ε\n",
    "\n",
    "agent = DqnAgent(tf_env.time_step_spec(),\n",
    "                tf_env.action_spec(),\n",
    "                q_network=q_net,\n",
    "                optimizer=optimizer,\n",
    "                target_update_period=pm['agent']['target_update_period'],\n",
    "                td_errors_loss_fn= element_wise_squared_loss, #keras.losses.Huber(reduction=\"none\"),\n",
    "                gamma=pm['agent']['gamma'], # discount factor\n",
    "                train_step_counter=train_step,\n",
    "                epsilon_greedy=lambda: epsilon_fn(train_step))\n",
    "agent.initialize()\n"
   ]
  },
  {
   "cell_type": "code",
   "execution_count": 8,
   "metadata": {},
   "outputs": [],
   "source": [
    "#Replay buffer\n",
    "replay_buffer = tf_uniform_replay_buffer.TFUniformReplayBuffer(\n",
    "    data_spec= agent.collect_data_spec,\n",
    "    batch_size= tf_env.batch_size,\n",
    "    max_length=pm['rbuffer']['max_length'])"
   ]
  },
  {
   "cell_type": "code",
   "execution_count": 9,
   "metadata": {},
   "outputs": [],
   "source": [
    "#observer\n",
    "#observer is just a function (or a callable object) that takes a trajectory argument,\n",
    "#add_method() method (bound to the replay_buffer object) can be used as observer\n",
    "replay_buffer_observer = replay_buffer.add_batch"
   ]
  },
  {
   "cell_type": "code",
   "execution_count": 10,
   "metadata": {},
   "outputs": [
    {
     "data": {
      "text/plain": [
       "'#observer for training metrics\\ntraining_metrics = [\\ntf_metrics.NumberOfEpisodes(),\\ntf_metrics.AverageEpisodeLengthMetric(),\\ntf_metrics.EnvironmentSteps(),\\ntf_metrics.AverageReturnMetric(),\\ntf_metrics.MaxReturnMetric(),\\ntf_metrics.MinReturnMetric(),   \\n]'"
      ]
     },
     "execution_count": 10,
     "metadata": {},
     "output_type": "execute_result"
    }
   ],
   "source": [
    "#observer for training metrics\n",
    "training_metrics = [\n",
    "tf_metrics.NumberOfEpisodes(),\n",
    "tf_metrics.AverageEpisodeLengthMetric(batch_size=len(envs)),\n",
    "tf_metrics.EnvironmentSteps(),\n",
    "tf_metrics.AverageReturnMetric(batch_size=len(envs)),\n",
    "tf_metrics.MaxReturnMetric(batch_size=len(envs)),\n",
    "tf_metrics.MinReturnMetric(batch_size=len(envs)),   \n",
    "]\n",
    "\n",
    "\n",
    "'''#observer for training metrics\n",
    "training_metrics = [\n",
    "tf_metrics.NumberOfEpisodes(),\n",
    "tf_metrics.AverageEpisodeLengthMetric(),\n",
    "tf_metrics.EnvironmentSteps(),\n",
    "tf_metrics.AverageReturnMetric(),\n",
    "tf_metrics.MaxReturnMetric(),\n",
    "tf_metrics.MinReturnMetric(),   \n",
    "]'''"
   ]
  },
  {
   "cell_type": "code",
   "execution_count": 11,
   "metadata": {},
   "outputs": [],
   "source": [
    "#custom observer\n",
    "class ShowProgress:\n",
    "    def __init__(self, total):\n",
    "        self.counter = 0\n",
    "        self.total = total\n",
    "    def __call__(self, trajectory):\n",
    "        if not trajectory.is_boundary():\n",
    "            self.counter += 1\n",
    "        if self.counter % 100 == 0:\n",
    "            print(\"\\r{}/{}\".format(self.counter, self.total), end=\"\")"
   ]
  },
  {
   "cell_type": "code",
   "execution_count": 12,
   "metadata": {},
   "outputs": [],
   "source": [
    "#Collect Driver\n",
    "update_period = pm['collect_driver']['num_steps'] # train the model every x steps\n",
    "collect_driver = DynamicStepDriver(\n",
    "    tf_env,\n",
    "    agent.collect_policy,\n",
    "    observers=[replay_buffer_observer] + training_metrics,\n",
    "    num_steps=update_period) # collect x steps for each training iteration\n",
    "\n",
    "#+ training_metrics,"
   ]
  },
  {
   "cell_type": "code",
   "execution_count": 13,
   "metadata": {},
   "outputs": [
    {
     "name": "stdout",
     "output_type": "stream",
     "text": [
      "WARNING:tensorflow:From /home/pico/.local/lib/python3.8/site-packages/tf_agents/drivers/dynamic_step_driver.py:196: calling while_loop_v2 (from tensorflow.python.ops.control_flow_ops) with back_prop=False is deprecated and will be removed in a future version.\n",
      "Instructions for updating:\n",
      "back_prop=False is deprecated. Consider using tf.stop_gradient instead.\n",
      "Instead of:\n",
      "results = tf.while_loop(c, b, vars, back_prop=False)\n",
      "Use:\n",
      "results = tf.nest.map_structure(tf.stop_gradient, tf.while_loop(c, b, vars))\n"
     ]
    },
    {
     "name": "stderr",
     "output_type": "stream",
     "text": [
      "WARNING:tensorflow:From /home/pico/.local/lib/python3.8/site-packages/tf_agents/drivers/dynamic_step_driver.py:196: calling while_loop_v2 (from tensorflow.python.ops.control_flow_ops) with back_prop=False is deprecated and will be removed in a future version.\n",
      "Instructions for updating:\n",
      "back_prop=False is deprecated. Consider using tf.stop_gradient instead.\n",
      "Instead of:\n",
      "results = tf.while_loop(c, b, vars, back_prop=False)\n",
      "Use:\n",
      "results = tf.nest.map_structure(tf.stop_gradient, tf.while_loop(c, b, vars))\n"
     ]
    }
   ],
   "source": [
    "# random policy driver to start filling the buffer\n",
    "random_collect_policy = RandomTFPolicy(tf_env.time_step_spec(),\n",
    "                        tf_env.action_spec())\n",
    "\n",
    "ns = pm['rnd_policy']['num_steps']\n",
    "init_driver = DynamicStepDriver(\n",
    "            tf_env,\n",
    "            random_collect_policy,\n",
    "            observers=[replay_buffer.add_batch],\n",
    "            num_steps=ns)\n",
    "#, ShowProgress(ns)],\n",
    "final_time_step, final_policy_state = init_driver.run()"
   ]
  },
  {
   "cell_type": "code",
   "execution_count": 14,
   "metadata": {},
   "outputs": [
    {
     "name": "stdout",
     "output_type": "stream",
     "text": [
      "WARNING:tensorflow:From /home/pico/anaconda3/envs/rl/lib/python3.8/site-packages/tensorflow/python/autograph/operators/control_flow.py:1218: ReplayBuffer.get_next (from tf_agents.replay_buffers.replay_buffer) is deprecated and will be removed in a future version.\n",
      "Instructions for updating:\n",
      "Use `as_dataset(..., single_deterministic_pass=False) instead.\n"
     ]
    },
    {
     "name": "stderr",
     "output_type": "stream",
     "text": [
      "WARNING:tensorflow:From /home/pico/anaconda3/envs/rl/lib/python3.8/site-packages/tensorflow/python/autograph/operators/control_flow.py:1218: ReplayBuffer.get_next (from tf_agents.replay_buffers.replay_buffer) is deprecated and will be removed in a future version.\n",
      "Instructions for updating:\n",
      "Use `as_dataset(..., single_deterministic_pass=False) instead.\n"
     ]
    }
   ],
   "source": [
    "#use buffer as tf API dataset ()\n",
    "dataset = replay_buffer.as_dataset(\n",
    "        sample_batch_size=pm['rbuffer']['sample_batch_size'],\n",
    "        num_steps=2,\n",
    "        num_parallel_calls=3).prefetch(3)"
   ]
  },
  {
   "cell_type": "code",
   "execution_count": 15,
   "metadata": {},
   "outputs": [],
   "source": [
    "log_folder = \"logs/\" + datetime.datetime.now().strftime(\"%Y%m%d-%H%M%S\")\n",
    "train_dir = os.path.join(current_path, log_folder)    \n",
    "train_summary_writer = tf.summary.create_file_writer(\n",
    "            train_dir, flush_millis=10000)\n",
    "#train_summary_writer.set_as_default()"
   ]
  },
  {
   "cell_type": "code",
   "execution_count": 16,
   "metadata": {},
   "outputs": [],
   "source": [
    "#convert main functions to tensorflow functions to speed up training\n",
    "collect_driver.run = function(collect_driver.run)\n",
    "agent.train = function(agent.train)"
   ]
  },
  {
   "cell_type": "code",
   "execution_count": 17,
   "metadata": {},
   "outputs": [],
   "source": [
    "#@tf.function\n",
    "def train_agent(n_iterations):\n",
    "    #reset metrics\n",
    "    for m in training_metrics:\n",
    "        m.reset()\n",
    "    time_step = None\n",
    "    policy_state = ()#agent.collect_policy.get_initial_state(tf_env.batch_size)\n",
    "    agent.train_step_counter.assign(0)\n",
    "    iterator = iter(dataset)\n",
    "    for iteration in range(n_iterations):\n",
    "        time_step, policy_state = collect_driver.run(time_step, policy_state)\n",
    "        trajectories, buffer_info = next(iterator)\n",
    "        train_loss = agent.train(trajectories)\n",
    "        print(\"\\r{} loss:{:.5f}\".format(iteration, train_loss.loss.numpy()), end=\"\")\n",
    "        if iteration % 100 == 0:\n",
    "            with train_summary_writer.as_default():\n",
    "                tf.summary.histogram(\"train/hist\",q_net.layers[0].weights[0],step=tf.cast(agent.train_step_counter,tf.int64))\n",
    "                tf.summary.scalar('train_loss', train_loss.loss.numpy(), step=tf.cast(agent.train_step_counter,tf.int64))\n",
    "                #train_summary_writer.flush()\n",
    "                for train_metric in training_metrics:\n",
    "                    train_metric.tf_summaries(train_step=tf.cast(agent.train_step_counter,tf.int64), step_metrics=training_metrics[:])\n",
    "                train_summary_writer.flush()"
   ]
  },
  {
   "cell_type": "code",
   "execution_count": 18,
   "metadata": {
    "scrolled": false
   },
   "outputs": [],
   "source": [
    "# Launch TensorBoard with objects in the log directory\n",
    "# This should launch tensorboard in your browser, but you may not see your metadata.\n",
    "#%tensorboard --logdir=logs --reload_interval=15"
   ]
  },
  {
   "cell_type": "code",
   "execution_count": 19,
   "metadata": {},
   "outputs": [],
   "source": [
    "#tf.summary.scalar('avgreturn', training_metrics[3].result().numpy(), step=tf.cast(agent.train_step_counter,tf.int64))"
   ]
  },
  {
   "cell_type": "code",
   "execution_count": null,
   "metadata": {
    "scrolled": true
   },
   "outputs": [
    {
     "name": "stdout",
     "output_type": "stream",
     "text": [
      "WARNING:tensorflow:From /home/pico/anaconda3/envs/rl/lib/python3.8/site-packages/tensorflow/python/util/dispatch.py:201: calling foldr_v2 (from tensorflow.python.ops.functional_ops) with back_prop=False is deprecated and will be removed in a future version.\n",
      "Instructions for updating:\n",
      "back_prop=False is deprecated. Consider using tf.stop_gradient instead.\n",
      "Instead of:\n",
      "results = tf.foldr(fn, elems, back_prop=False)\n",
      "Use:\n",
      "results = tf.nest.map_structure(tf.stop_gradient, tf.foldr(fn, elems))\n"
     ]
    },
    {
     "name": "stderr",
     "output_type": "stream",
     "text": [
      "WARNING:tensorflow:From /home/pico/anaconda3/envs/rl/lib/python3.8/site-packages/tensorflow/python/util/dispatch.py:201: calling foldr_v2 (from tensorflow.python.ops.functional_ops) with back_prop=False is deprecated and will be removed in a future version.\n",
      "Instructions for updating:\n",
      "back_prop=False is deprecated. Consider using tf.stop_gradient instead.\n",
      "Instead of:\n",
      "results = tf.foldr(fn, elems, back_prop=False)\n",
      "Use:\n",
      "results = tf.nest.map_structure(tf.stop_gradient, tf.foldr(fn, elems))\n"
     ]
    },
    {
     "name": "stdout",
     "output_type": "stream",
     "text": [
      "70019 loss:10.9513179"
     ]
    }
   ],
   "source": [
    "%time train_agent(pm['misc']['n_iterations'])"
   ]
  },
  {
   "cell_type": "code",
   "execution_count": null,
   "metadata": {},
   "outputs": [],
   "source": [
    "replay_buffer.num_frames()"
   ]
  },
  {
   "cell_type": "code",
   "execution_count": null,
   "metadata": {},
   "outputs": [],
   "source": [
    "env = suite_gym.load('ScannerEnv-v0',gym_kwargs={'setpoint':0.03,\n",
    "                                                 'inliers_ratios_file':os.path.join(current_path, 'plants_image_dataset/scan_plant002/v01/inliers_ratios.npy'),\n",
    "                                                  'dataset_path':os.path.join(current_path, 'plants_image_dataset/scan_plant002/v01/gray_imgs_224/')})\n",
    "test_env = tf_py_environment.TFPyEnvironment( env )\n",
    "\n",
    "state = test_env.reset()\n",
    "#print(state.observation[0].numpy())\n",
    "last_position = env.current_position\n",
    "cont = 0\n",
    "time_steps = 3000\n",
    "#obs = deque(maxlen=time_steps)\n",
    "\n",
    "for i in range(time_steps):\n",
    "    #obs.append(state.observation[0].numpy())\n",
    "    cont +=1\n",
    "    action_step = agent.policy.action(state)\n",
    "    next_state = test_env.step(action_step.action)\n",
    "    print(cont,':',last_position,env.previous_match_idx,state.observation[1].numpy(),env.action2move(action_step.action.numpy(),state.observation[1].numpy()[0][-1]) ) #,state.step_type.numpy()  )#,env.action2move(action_step.action,state.observation[0][-1].numpy()))#action,dir\n",
    "    state = copy.deepcopy(next_state)\n",
    "    last_position = env.current_position\n",
    "    if state.is_last():\n",
    "        print('salio',cont)\n",
    "        break\n",
    "        \n",
    "print(env.kept_images)\n",
    "print(sorted(env.kept_images))\n",
    "print(env.total_reward)\n",
    "print(len(env.kept_images))\n",
    "print(env.total_moves)"
   ]
  },
  {
   "cell_type": "raw",
   "metadata": {},
   "source": [
    "policy_dir = os.path.join(current_path, 'policy')\n",
    "tf_policy_saver = policy_saver.PolicySaver(agent.policy)\n",
    "tf_policy_saver.save(policy_dir)"
   ]
  },
  {
   "cell_type": "code",
   "execution_count": null,
   "metadata": {},
   "outputs": [],
   "source": [
    "\n"
   ]
  },
  {
   "cell_type": "code",
   "execution_count": null,
   "metadata": {},
   "outputs": [],
   "source": []
  },
  {
   "cell_type": "code",
   "execution_count": null,
   "metadata": {},
   "outputs": [],
   "source": []
  },
  {
   "cell_type": "code",
   "execution_count": null,
   "metadata": {},
   "outputs": [],
   "source": [
    "#batched_py_environment.BatchedPyEnvironment(envs=[suite.load(...) for _ in range(n)])"
   ]
  },
  {
   "cell_type": "code",
   "execution_count": null,
   "metadata": {},
   "outputs": [],
   "source": []
  },
  {
   "cell_type": "code",
   "execution_count": null,
   "metadata": {},
   "outputs": [],
   "source": []
  },
  {
   "cell_type": "code",
   "execution_count": null,
   "metadata": {},
   "outputs": [],
   "source": []
  },
  {
   "cell_type": "code",
   "execution_count": null,
   "metadata": {},
   "outputs": [],
   "source": []
  },
  {
   "cell_type": "code",
   "execution_count": null,
   "metadata": {},
   "outputs": [],
   "source": []
  },
  {
   "cell_type": "code",
   "execution_count": null,
   "metadata": {},
   "outputs": [],
   "source": []
  },
  {
   "cell_type": "code",
   "execution_count": null,
   "metadata": {},
   "outputs": [],
   "source": []
  },
  {
   "cell_type": "code",
   "execution_count": null,
   "metadata": {},
   "outputs": [],
   "source": [
    "#q_net.layers[0].weights[0].shape"
   ]
  },
  {
   "cell_type": "code",
   "execution_count": null,
   "metadata": {},
   "outputs": [],
   "source": [
    " "
   ]
  },
  {
   "cell_type": "code",
   "execution_count": null,
   "metadata": {},
   "outputs": [],
   "source": []
  },
  {
   "cell_type": "code",
   "execution_count": null,
   "metadata": {},
   "outputs": [],
   "source": []
  }
 ],
 "metadata": {
  "kernelspec": {
   "display_name": "rl",
   "language": "python",
   "name": "rl"
  },
  "language_info": {
   "codemirror_mode": {
    "name": "ipython",
    "version": 3
   },
   "file_extension": ".py",
   "mimetype": "text/x-python",
   "name": "python",
   "nbconvert_exporter": "python",
   "pygments_lexer": "ipython3",
   "version": "3.8.8"
  }
 },
 "nbformat": 4,
 "nbformat_minor": 4
}
